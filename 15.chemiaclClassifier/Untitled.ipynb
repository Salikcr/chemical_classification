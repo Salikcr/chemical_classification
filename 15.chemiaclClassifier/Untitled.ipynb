{
 "cells": [
  {
   "cell_type": "code",
   "execution_count": 132,
   "metadata": {},
   "outputs": [],
   "source": [
    "import pandas as pd\n",
    "import matplotlib.pyplot as plt\n",
    "import numpy as np"
   ]
  },
  {
   "cell_type": "code",
   "execution_count": 133,
   "metadata": {},
   "outputs": [],
   "source": [
    "X_train = pd.read_csv(\"Logistic_X_Train.csv\").values\n",
    "Y_train = pd.read_csv(\"Logistic_Y_Train.csv\").values\n",
    "test = pd.read_csv(\"Logistic_X_Test.csv\")"
   ]
  },
  {
   "cell_type": "code",
   "execution_count": 134,
   "metadata": {},
   "outputs": [
    {
     "name": "stdout",
     "output_type": "stream",
     "text": [
      "(3000, 3) (3000, 1)\n"
     ]
    }
   ],
   "source": [
    "print(X_train.shape,Y_train.shape)"
   ]
  },
  {
   "cell_type": "code",
   "execution_count": 135,
   "metadata": {},
   "outputs": [
    {
     "name": "stdout",
     "output_type": "stream",
     "text": [
      "[[1]\n",
      " [1]\n",
      " [1]\n",
      " ...\n",
      " [1]\n",
      " [0]\n",
      " [1]]\n"
     ]
    }
   ],
   "source": [
    "print(Y_train)"
   ]
  },
  {
   "cell_type": "code",
   "execution_count": 136,
   "metadata": {},
   "outputs": [],
   "source": [
    "def hypothesis(x,w,b):\n",
    "    h = np.dot(x,w) + b\n",
    "    return sigmoid(h)\n",
    "def sigmoid(z):\n",
    "    return 1.0/(1.0+np.exp(-1.0*z))\n",
    "def error(y_true,x,w,b):\n",
    "    m = x.shape[0]\n",
    "    err = 0.0\n",
    "    for i in range(m):\n",
    "        hx = hypothesis(x[i],w,b)\n",
    "        err += (y_true[i]*np.log(hx))+((1-y_true[i])*np.log(1-hx))\n",
    "    return -err/m\n",
    "def get_gradient(y_true,x,w,b):\n",
    "    grad_w = np.zeros((w.shape))\n",
    "    grad_b = 0.0\n",
    "    m = x.shape[0]\n",
    "    for i in range(m):\n",
    "        hx = hypothesis(x[i],w,b)\n",
    "        grad_w += (y_true[i]-hx)*x[i]\n",
    "        grad_b += (y_true[i]-hx)\n",
    "    grad_w /= m\n",
    "    grad_b /= m\n",
    "    \n",
    "    return [grad_w,grad_b]\n",
    "def grad_descent(x,y_true,w,b,lr = 0.1):\n",
    "    err = error(y_true,x,w,b)\n",
    "    [grad_w,grad_b] = get_gradient(y_true,x,w,b)\n",
    "    w = w+lr*grad_w\n",
    "    b = b+lr*grad_b\n",
    "    return err,w,b\n",
    "def predict(x,w,b):\n",
    "    confidence = hypothesis(x,w,b)\n",
    "    if confidence  < 0.5:\n",
    "        return 0\n",
    "    else:\n",
    "        return 1\n",
    "def get_acc(x_tst,y_tst,w,b):\n",
    "    y_pred = []\n",
    "    for i in range(y_tst.shape[0]):\n",
    "        p = predict(x_tst[i],w,b)\n",
    "        y_pred.append(p)\n",
    "    y_pred = np.array(y_pred)\n",
    "    return float((y_pred == y_tst).sum())/y_tst.shape[0]"
   ]
  },
  {
   "cell_type": "code",
   "execution_count": 137,
   "metadata": {},
   "outputs": [
    {
     "name": "stdout",
     "output_type": "stream",
     "text": [
      "(3,)\n"
     ]
    }
   ],
   "source": [
    "loss = []\n",
    "#w = 2*np.random.random((X_train.shape[1],))\n",
    "#b = 5*np.random.random()\n",
    "#print(w)\n",
    "w = np.zeros((X_train.shape[1],))\n",
    "b = 0.0\n",
    "print(w.shape)"
   ]
  },
  {
   "cell_type": "code",
   "execution_count": 146,
   "metadata": {},
   "outputs": [],
   "source": [
    "for i in range(400):\n",
    "    l,w,b = grad_descent(X_train,Y_train,w,b,0.1)\n",
    "    loss.append(l)"
   ]
  },
  {
   "cell_type": "code",
   "execution_count": 147,
   "metadata": {},
   "outputs": [
    {
     "name": "stdout",
     "output_type": "stream",
     "text": [
      "[array([0.69314718]), array([0.68812612]), array([0.68317242]), array([0.67828513]), array([0.67346325]), array([0.66870585]), array([0.66401196]), array([0.65938064]), array([0.65481095]), array([0.65030196]), array([0.64585277]), array([0.64146245]), array([0.6371301]), array([0.63285485]), array([0.62863581]), array([0.62447211]), array([0.62036288]), array([0.6163073]), array([0.6123045]), array([0.60835368]), array([0.60445401]), array([0.60060469]), array([0.59680493]), array([0.59305394]), array([0.58935095]), array([0.5856952]), array([0.58208595]), array([0.57852245]), array([0.57500398]), array([0.57152982]), array([0.56809927]), array([0.56471164]), array([0.56136624]), array([0.5580624]), array([0.55479946]), array([0.55157677]), array([0.54839368]), array([0.54524958]), array([0.54214384]), array([0.53907585]), array([0.53604502]), array([0.53305076]), array([0.53009248]), array([0.52716962]), array([0.52428163]), array([0.52142794]), array([0.51860803]), array([0.51582137]), array([0.51306742]), array([0.51034568]), array([0.50765565]), array([0.50499683]), array([0.50236874]), array([0.4997709]), array([0.49720284]), array([0.49466409]), array([0.49215422]), array([0.48967277]), array([0.4872193]), array([0.4847934]), array([0.48239463]), array([0.48002259]), array([0.47767686]), array([0.47535705]), array([0.47306277]), array([0.47079363]), array([0.46854925]), array([0.46632926]), array([0.4641333]), array([0.46196101]), array([0.45981204]), array([0.45768603]), array([0.45558266]), array([0.45350158]), array([0.45144247]), array([0.449405]), array([0.44738887]), array([0.44539376]), array([0.44341936]), array([0.44146537]), array([0.43953151]), array([0.43761748]), array([0.43572299]), array([0.43384776]), array([0.43199153]), array([0.43015402]), array([0.42833496]), array([0.4265341]), array([0.42475118]), array([0.42298595]), array([0.42123816]), array([0.41950756]), array([0.41779392]), array([0.41609701]), array([0.41441659]), array([0.41275243]), array([0.41110432]), array([0.40947203]), array([0.40785535]), array([0.40625406]), array([0.40466796]), array([0.40309684]), array([0.40154051]), array([0.39999875]), array([0.39847139]), array([0.39695822]), array([0.39545906]), array([0.39397373]), array([0.39250203]), array([0.3910438]), array([0.38959885]), array([0.38816702]), array([0.38674812]), array([0.385342]), array([0.3839485]), array([0.38256743]), array([0.38119866]), array([0.37984201]), array([0.37849734]), array([0.37716449]), array([0.37584332]), array([0.37453367]), array([0.37323541]), array([0.37194838]), array([0.37067246]), array([0.36940749]), array([0.36815334]), array([0.36690989]), array([0.365677]), array([0.36445453]), array([0.36324237]), array([0.36204038]), array([0.36084844]), array([0.35966643]), array([0.35849423]), array([0.35733173]), array([0.3561788]), array([0.35503532]), array([0.3539012]), array([0.35277631]), array([0.35166056]), array([0.35055382]), array([0.34945599]), array([0.34836697]), array([0.34728666]), array([0.34621495]), array([0.34515175]), array([0.34409695]), array([0.34305046]), array([0.34201218]), array([0.34098202]), array([0.33995989]), array([0.33894569]), array([0.33793934]), array([0.33694074]), array([0.33594981]), array([0.33496646]), array([0.33399061]), array([0.33302217]), array([0.33206106]), array([0.3311072]), array([0.33016051]), array([0.3292209]), array([0.32828831]), array([0.32736265]), array([0.32644385]), array([0.32553183]), array([0.32462653]), array([0.32372786]), array([0.32283575]), array([0.32195014]), array([0.32107096]), array([0.32019813]), array([0.31933159]), array([0.31847127]), array([0.31761711]), array([0.31676903]), array([0.31592699]), array([0.3150909]), array([0.31426072]), array([0.31343638]), array([0.31261781]), array([0.31180496]), array([0.31099777]), array([0.31019618]), array([0.30940013]), array([0.30860957]), array([0.30782444]), array([0.30704469]), array([0.30627025]), array([0.30550108]), array([0.30473712]), array([0.30397833]), array([0.30322464]), array([0.302476]), array([0.30173238]), array([0.30099371]), array([0.30025995]), array([0.29953105]), array([0.29880696]), array([0.29808763]), array([0.29737302]), array([0.29666309]), array([0.29595777]), array([0.29525704]), array([0.29456084]), array([0.29386914]), array([0.29318188]), array([0.29249903]), array([0.29182055]), array([0.29114638]), array([0.2904765]), array([0.28981086]), array([0.28914941]), array([0.28849213]), array([0.28783897]), array([0.28718989]), array([0.28654485]), array([0.28590382]), array([0.28526676]), array([0.28463363]), array([0.2840044]), array([0.28337903]), array([0.28275748]), array([0.28213971]), array([0.28152571]), array([0.28091542]), array([0.28030882]), array([0.27970587]), array([0.27910654]), array([0.2785108]), array([0.27791861]), array([0.27732994]), array([0.27674477]), array([0.27616305]), array([0.27558477]), array([0.27500988]), array([0.27443835]), array([0.27387017]), array([0.2733053]), array([0.2727437]), array([0.27218536]), array([0.27163024]), array([0.27107831]), array([0.27052955]), array([0.26998393]), array([0.26944142]), array([0.26890199]), array([0.26836563]), array([0.26783229]), array([0.26730196]), array([0.26677462]), array([0.26625022]), array([0.26572876]), array([0.2652102]), array([0.26469452]), array([0.2641817]), array([0.26367171]), array([0.26316453]), array([0.26266014]), array([0.26215851]), array([0.26165961]), array([0.26116343]), array([0.26066995]), array([0.26017913]), array([0.25969097]), array([0.25920543]), array([0.2587225]), array([0.25824215]), array([0.25776437]), array([0.25728913]), array([0.25681641]), array([0.25634619]), array([0.25587845]), array([0.25541318]), array([0.25495035]), array([0.25448993]), array([0.25403193]), array([0.2535763]), array([0.25312304]), array([0.25267213]), array([0.25222354]), array([0.25177726]), array([0.25133327]), array([0.25089156]), array([0.2504521]), array([0.25001488]), array([0.24957988]), array([0.24914708]), array([0.24871646]), array([0.24828801]), array([0.24786172]), array([0.24743756]), array([0.24701552]), array([0.24659558]), array([0.24617773]), array([0.24576195]), array([0.24534822]), array([0.24493654]), array([0.24452687]), array([0.24411922]), array([0.24371356]), array([0.24330988]), array([0.24290816]), array([0.24250839]), array([0.24211055]), array([0.24171463]), array([0.24132062]), array([0.2409285]), array([0.24053826]), array([0.24014988]), array([0.23976335]), array([0.23937866]), array([0.23899579]), array([0.23861473]), array([0.23823546]), array([0.23785798]), array([0.23748227]), array([0.23710832]), array([0.23673611]), array([0.23636563]), array([0.23599687]), array([0.23562982]), array([0.23526447]), array([0.2349008]), array([0.2345388]), array([0.23417846]), array([0.23381976]), array([0.2334627]), array([0.23310727]), array([0.23275345]), array([0.23240123]), array([0.2320506]), array([0.23170155]), array([0.23135406]), array([0.23100814]), array([0.23066376]), array([0.23032091]), array([0.22997959]), array([0.22963978]), array([0.22930148]), array([0.22896467]), array([0.22862935]), array([0.2282955]), array([0.22796311]), array([0.22763217]), array([0.22730268]), array([0.22697462]), array([0.22664798]), array([0.22632276]), array([0.22599895]), array([0.22567652]), array([0.22535549]), array([0.22503583]), array([0.22471754]), array([0.2244006]), array([0.22408502]), array([0.22377077]), array([0.22345786]), array([0.22314627]), array([0.22283599]), array([0.22252702]), array([0.22221934]), array([0.22191295]), array([0.22160784]), array([0.221304]), array([0.22100143]), array([0.22070011]), array([0.22040004]), array([0.2201012]), array([0.2198036]), array([0.21950722]), array([0.21921205]), array([0.21891809]), array([0.21862533]), array([0.21833376]), array([0.21804338]), array([0.21775417]), array([0.21746613]), array([0.21717925]), array([0.21689353]), array([0.21660895]), array([0.21632551]), array([0.21604321]), array([0.21576203]), array([0.21548197]), array([0.21520302]), array([0.21492517]), array([0.21464843]), array([0.21437277]), array([0.2140982]), array([0.2138247]), array([0.21355228]), array([0.21328092]), array([0.21301061]), array([0.21274136]), array([0.21247316]), array([0.21220599]), array([0.21193985]), array([0.21167474]), array([0.21141065]), array([0.21114757]), array([0.2108855]), array([0.21062442]), array([0.21036435]), array([0.21010526]), array([0.20984716]), array([0.20959003]), array([0.20933388]), array([0.20907869]), array([0.20882446]), array([0.20857118]), array([0.20831886]), array([0.20806747]), array([0.20781703]), array([0.20756751]), array([0.20731892]), array([0.20707125]), array([0.2068245]), array([0.20657866]), array([0.20633372]), array([0.20608968]), array([0.20584654]), array([0.20560429]), array([0.20536292]), array([0.20512242]), array([0.20488281]), array([0.20464406]), array([0.20440617]), array([0.20416915]), array([0.20393297]), array([0.20369765]), array([0.20346317]), array([0.20322953]), array([0.20299672]), array([0.20276475]), array([0.2025336]), array([0.20230327]), array([0.20207375]), array([0.20184505]), array([0.20161716]), array([0.20139006]), array([0.20116377]), array([0.20093826]), array([0.20071355]), array([0.20048962]), array([0.20026647]), array([0.2000441]), array([0.1998225]), array([0.19960166]), array([0.19938159]), array([0.19916228]), array([0.19894372]), array([0.19872591]), array([0.19850885]), array([0.19829253]), array([0.19807695]), array([0.19786211]), array([0.19764799]), array([0.1974346]), array([0.19722193]), array([0.19700998]), array([0.19679875]), array([0.19658823]), array([0.19637841]), array([0.1961693]), array([0.19596088]), array([0.19575317]), array([0.19554614]), array([0.1953398]), array([0.19513415]), array([0.19492918]), array([0.19472488]), array([0.19452126]), array([0.19431831]), array([0.19411603]), array([0.19391441]), array([0.19371345]), array([0.19351314]), array([0.19331349]), array([0.19311449]), array([0.19291613]), array([0.19271842]), array([0.19252134]), array([0.1923249]), array([0.1921291]), array([0.19193392]), array([0.19173937]), array([0.19154545]), array([0.19135214]), array([0.19115945]), array([0.19096738]), array([0.19077591]), array([0.19058505]), array([0.1903948]), array([0.19020514]), array([0.19001609]), array([0.18982763]), array([0.18963976]), array([0.18945248]), array([0.18926579]), array([0.18741771]), array([0.18562617]), array([0.18388841]), array([0.18220188]), array([0.18056417]), array([0.178973]), array([0.17742628]), array([0.17592201]), array([0.17445831]), array([0.17303343]), array([0.17164572]), array([0.17029359]), array([0.16897559]), array([0.16769032]), array([0.16643646]), array([0.16521276]), array([0.16401804]), array([0.1628512]), array([0.16171116]), array([0.16059692]), array([0.15950754]), array([0.1584421]), array([0.15739974]), array([0.15637963]), array([0.15538102]), array([0.15440313]), array([0.15344528]), array([0.15250678]), array([0.151587]), array([0.1506853]), array([0.14980111]), array([0.14893387]), array([0.14808303]), array([0.14724809]), array([0.14642854]), array([0.14562393]), array([0.1448338]), array([0.14405771]), array([0.14329526]), array([0.14254603]), array([0.14180966]), array([0.14108577]), array([0.14037401]), array([0.13967405]), array([0.13898555]), array([0.1383082]), array([0.1376417]), array([0.13698576]), array([0.13634011]), array([0.13570446]), array([0.13507856]), array([0.13446217]), array([0.13385503]), array([0.13325692]), array([0.13266761]), array([0.13208689]), array([0.13151453]), array([0.13095035]), array([0.13039415]), array([0.12984573]), array([0.12930492]), array([0.12877153]), array([0.12824539]), array([0.12772635]), array([0.12721423]), array([0.12670889]), array([0.12621016]), array([0.12571792]), array([0.12523201]), array([0.12475229]), array([0.12427864]), array([0.12381093]), array([0.12334903]), array([0.12289281]), array([0.12244217]), array([0.12199698]), array([0.12155714]), array([0.12112253]), array([0.12069306]), array([0.12026862]), array([0.1198491]), array([0.11943443]), array([0.11902449]), array([0.1186192]), array([0.11821847]), array([0.11782222]), array([0.11743035]), array([0.1170428]), array([0.11665947]), array([0.1162803]), array([0.11590519]), array([0.11553409]), array([0.11516692]), array([0.11480361]), array([0.11444409]), array([0.1140883]), array([0.11373616]), array([0.11338763]), array([0.11304262]), array([0.11270109]), array([0.11236298]), array([0.11202822]), array([0.11169677]), array([0.11136857]), array([0.11104356]), array([0.11072169]), array([0.11040291]), array([0.11008717]), array([0.10977442]), array([0.10946462]), array([0.10915772]), array([0.10885367]), array([0.10855243]), array([0.10825395]), array([0.1079582]), array([0.10766512]), array([0.10737469]), array([0.10708685]), array([0.10680158]), array([0.10651883]), array([0.10623857]), array([0.10596075]), array([0.10568535]), array([0.10541232]), array([0.10514164]), array([0.10487327]), array([0.10460718]), array([0.10434333]), array([0.1040817]), array([0.10382224]), array([0.10356494]), array([0.10330977]), array([0.10305668]), array([0.10280566]), array([0.10255667]), array([0.1023097]), array([0.1020647]), array([0.10182166]), array([0.10158055]), array([0.10134135]), array([0.10110402]), array([0.10086854]), array([0.1006349]), array([0.10040306]), array([0.10017301]), array([0.09994471]), array([0.09971816]), array([0.09949332]), array([0.09927017]), array([0.0990487]), array([0.09882888]), array([0.09861069]), array([0.09839412]), array([0.09817913]), array([0.09796572]), array([0.09775386]), array([0.09754354]), array([0.09733473]), array([0.09712743]), array([0.0969216]), array([0.09671723]), array([0.09651432]), array([0.09631283]), array([0.09611275]), array([0.09591407]), array([0.09571677]), array([0.09552083]), array([0.09532624]), array([0.09513299]), array([0.09494105]), array([0.09475042]), array([0.09456107]), array([0.094373]), array([0.09418619]), array([0.09400063]), array([0.09381629]), array([0.09363318]), array([0.09345128]), array([0.09327056]), array([0.09309103]), array([0.09291266]), array([0.09273545]), array([0.09255938]), array([0.09238444]), array([0.09221062]), array([0.09203791]), array([0.09186629]), array([0.09169576]), array([0.09152629]), array([0.09135789]), array([0.09119054]), array([0.09102423]), array([0.09085895]), array([0.09069469]), array([0.09053144]), array([0.09036918]), array([0.09020792]), array([0.09004763]), array([0.08988831]), array([0.08972995]), array([0.08957254]), array([0.08941607]), array([0.08926053]), array([0.08910592]), array([0.08895222]), array([0.08879942]), array([0.08864752]), array([0.0884965]), array([0.08834637]), array([0.0881971]), array([0.0880487]), array([0.08790115]), array([0.08775445]), array([0.08760859]), array([0.08746356]), array([0.08731934]), array([0.08717595]), array([0.08703336]), array([0.08689158]), array([0.08675058]), array([0.08661037]), array([0.08647094]), array([0.08633228]), array([0.08619439]), array([0.08605726]), array([0.08592087]), array([0.08578523]), array([0.08565033]), array([0.08551616]), array([0.08538271]), array([0.08524999]), array([0.08511797]), array([0.08498666]), array([0.08485605]), array([0.08472614]), array([0.08459691]), array([0.08446837]), array([0.0843405]), array([0.0842133]), array([0.08408676]), array([0.08396089]), array([0.08383567]), array([0.0837111]), array([0.08358717]), array([0.08346387]), array([0.08334121]), array([0.08321918]), array([0.08309777]), array([0.08297697]), array([0.08285679]), array([0.08273721]), array([0.08261823]), array([0.08249986]), array([0.08238207]), array([0.08226487]), array([0.08214825]), array([0.08203221]), array([0.08191674]), array([0.08180184]), array([0.08168751]), array([0.08157373]), array([0.08146051]), array([0.08134784]), array([0.08123572]), array([0.08112414]), array([0.0810131]), array([0.08090259]), array([0.08079261]), array([0.08068316]), array([0.08057422]), array([0.08046581]), array([0.08035791]), array([0.08025052]), array([0.08014363]), array([0.08003725]), array([0.07993137]), array([0.07982598]), array([0.07972108]), array([0.07961666]), array([0.07951274]), array([0.07940929]), array([0.07930631]), array([0.07920381]), array([0.07910178]), array([0.07900022]), array([0.07889912]), array([0.07879848]), array([0.07869829]), array([0.07859855]), array([0.07849927]), array([0.07840043]), array([0.07830203]), array([0.07820408]), array([0.07810656]), array([0.07800947]), array([0.07791281]), array([0.07781658]), array([0.07772078]), array([0.07762539]), array([0.07753043]), array([0.07743588]), array([0.07734174]), array([0.07724801]), array([0.07715469]), array([0.07706177]), array([0.07696925]), array([0.07687713]), array([0.07678541]), array([0.07669408]), array([0.07660314]), array([0.07651259]), array([0.07642242]), array([0.07633263]), array([0.07624323]), array([0.0761542]), array([0.07606555]), array([0.07597726]), array([0.07588935]), array([0.07580181]), array([0.07571462]), array([0.07562781]), array([0.07554135]), array([0.07545525]), array([0.0753695]), array([0.07528411]), array([0.07519907]), array([0.07511437]), array([0.07503002]), array([0.07494602]), array([0.07486236]), array([0.07477903]), array([0.07469604]), array([0.07461339]), array([0.07453107]), array([0.07444908]), array([0.07436742]), array([0.07428609]), array([0.07420508]), array([0.07412439]), array([0.07404403]), array([0.07396398]), array([0.07388424]), array([0.07380483]), array([0.07372572]), array([0.07364692]), array([0.07356844]), array([0.07349026]), array([0.07341238]), array([0.07333481]), array([0.07325753]), array([0.07318056]), array([0.07310388]), array([0.0730275]), array([0.07295141]), array([0.07287562]), array([0.07280011]), array([0.07272489]), array([0.07264996]), array([0.07257531]), array([0.07250095]), array([0.07242687]), array([0.07235306]), array([0.07227954]), array([0.07220629]), array([0.07213331]), array([0.07206061]), array([0.07198818]), array([0.07191602]), array([0.07184413]), array([0.0717725]), array([0.07170114]), array([0.07163004]), array([0.07155921]), array([0.07148863]), array([0.07141832]), array([0.07134826]), array([0.07127846]), array([0.07120891]), array([0.07113961]), array([0.07107057]), array([0.07100178]), array([0.07093323]), array([0.07086493]), array([0.07079688]), array([0.07072907]), array([0.07066151]), array([0.07059418]), array([0.0705271]), array([0.07046026]), array([0.07039365]), array([0.07032728]), array([0.07026114]), array([0.07019524]), array([0.07012957]), array([0.07006413]), array([0.06999892]), array([0.06993394]), array([0.06986919]), array([0.06980466])]\n"
     ]
    }
   ],
   "source": [
    "print(loss)"
   ]
  },
  {
   "cell_type": "code",
   "execution_count": 148,
   "metadata": {},
   "outputs": [
    {
     "data": {
      "text/plain": [
       "[<matplotlib.lines.Line2D at 0x7fbde548e6d0>]"
      ]
     },
     "execution_count": 148,
     "metadata": {},
     "output_type": "execute_result"
    },
    {
     "data": {
      "image/png": "[encoded data removed]",
      "text/plain": [
       "<Figure size 432x288 with 1 Axes>"
      ]
     },
     "metadata": {
      "needs_background": "light"
     },
     "output_type": "display_data"
    }
   ],
   "source": [
    "plt.plot(loss)"
   ]
  },
  {
   "cell_type": "code",
   "execution_count": 141,
   "metadata": {},
   "outputs": [
    {
     "data": {
      "text/plain": [
       "(array([-0.59596142,  0.08531048, -0.6037877 ]), array([-0.01915221]))"
      ]
     },
     "execution_count": 141,
     "metadata": {},
     "output_type": "execute_result"
    }
   ],
   "source": [
    "w,b"
   ]
  },
  {
   "cell_type": "code",
   "execution_count": 82,
   "metadata": {},
   "outputs": [],
   "source": [
    "def sigmoid(z):\n",
    "    return (1/(1+np.exp(-z)))\n",
    "def predictY(x,theta):\n",
    "    return sigmoid(np.dot(x,theta)) \n",
    "def predict(x,theta):\n",
    "    hyp = predictY(x,theta)\n",
    "    outputs = np.zeros((hyp.shape))\n",
    "    outputs[hyp>0.5]=1\n",
    "    return outputs\n",
    "\n",
    "\n",
    "def error(x,y,theta):\n",
    "    m=x.shape[0]\n",
    "    hyp = predictY(x,theta)\n",
    "    error  = -1*(np.sum(y*np.log(hyp) + (1-y)*np.log(1-hyp)))\n",
    "    return error/m\n",
    "               \n",
    "def getGrad(x,y,theta):\n",
    "    hyp = predictY(x,theta)\n",
    "    grad  = np.dot(x.T,(y-hyp))\n",
    "    return grad\n",
    "\n",
    "\n",
    "\n",
    "def gradientDescent(x,y,lr,maxItr):\n",
    "    error_list = []\n",
    "    theta = np.zeros([x.shape[1],1])\n",
    "    for i in range(maxItr):\n",
    "        grad = getGrad(x,y,theta)\n",
    "        err = error(x,y,theta)\n",
    "        error_list.append(err)\n",
    "        theta = theta + lr*grad\n",
    "    return theta,error_list\n"
   ]
  },
  {
   "cell_type": "code",
   "execution_count": 97,
   "metadata": {},
   "outputs": [
    {
     "name": "stderr",
     "output_type": "stream",
     "text": [
      "/usr/local/lib/python3.7/dist-packages/ipykernel_launcher.py:15: RuntimeWarning: divide by zero encountered in log\n",
      "  from ipykernel import kernelapp as app\n",
      "/usr/local/lib/python3.7/dist-packages/ipykernel_launcher.py:15: RuntimeWarning: invalid value encountered in multiply\n",
      "  from ipykernel import kernelapp as app\n"
     ]
    }
   ],
   "source": [
    "theta,error_list = gradientDescent(X_train,Y_train,0.01,100)"
   ]
  },
  {
   "cell_type": "code",
   "execution_count": 98,
   "metadata": {},
   "outputs": [
    {
     "data": {
      "text/plain": [
       "[<matplotlib.lines.Line2D at 0x7fbde6fa02d0>]"
      ]
     },
     "execution_count": 98,
     "metadata": {},
     "output_type": "execute_result"
    },
    {
     "data": {
      "image/png": "[encoded data removed]",
      "text/plain": [
       "<Figure size 432x288 with 1 Axes>"
      ]
     },
     "metadata": {
      "needs_background": "light"
     },
     "output_type": "display_data"
    }
   ],
   "source": [
    "plt.plot(error_list)"
   ]
  },
  {
   "cell_type": "code",
   "execution_count": 99,
   "metadata": {},
   "outputs": [
    {
     "data": {
      "text/plain": [
       "array([[-1.85376332],\n",
       "       [ 1.35390596],\n",
       "       [-4.01648952]])"
      ]
     },
     "execution_count": 99,
     "metadata": {},
     "output_type": "execute_result"
    }
   ],
   "source": [
    "theta"
   ]
  },
  {
   "cell_type": "code",
   "execution_count": 101,
   "metadata": {},
   "outputs": [],
   "source": [
    "X_train1= (X_train-X_train.mean())/X_train.std()\n"
   ]
  },
  {
   "cell_type": "code",
   "execution_count": 130,
   "metadata": {},
   "outputs": [],
   "source": [
    "ones  = np.ones([X_train.shape[0],1])\n",
    "X_train1 = np.hstack((ones,X_train1))\n",
    "one = np.ones([test.shape[0],1])\n",
    "test = np.hstack((one,test))"
   ]
  },
  {
   "cell_type": "code",
   "execution_count": 123,
   "metadata": {},
   "outputs": [
    {
     "name": "stderr",
     "output_type": "stream",
     "text": [
      "/usr/local/lib/python3.7/dist-packages/ipykernel_launcher.py:15: RuntimeWarning: divide by zero encountered in log\n",
      "  from ipykernel import kernelapp as app\n",
      "/usr/local/lib/python3.7/dist-packages/ipykernel_launcher.py:15: RuntimeWarning: invalid value encountered in multiply\n",
      "  from ipykernel import kernelapp as app\n"
     ]
    }
   ],
   "source": [
    "theta,error_list = gradientDescent(X_train1,Y_train,0.01,200)"
   ]
  },
  {
   "cell_type": "code",
   "execution_count": 124,
   "metadata": {},
   "outputs": [
    {
     "data": {
      "text/plain": [
       "[<matplotlib.lines.Line2D at 0x7fbde6bce4d0>]"
      ]
     },
     "execution_count": 124,
     "metadata": {},
     "output_type": "execute_result"
    },
    {
     "data": {
      "image/png": "[encoded data removed]",
      "text/plain": [
       "<Figure size 432x288 with 1 Axes>"
      ]
     },
     "metadata": {
      "needs_background": "light"
     },
     "output_type": "display_data"
    }
   ],
   "source": [
    "plt.plot(error_list)"
   ]
  },
  {
   "cell_type": "code",
   "execution_count": 131,
   "metadata": {},
   "outputs": [],
   "source": [
    "out = predict(test,theta)\n",
    "np.savetxt(\"chem.csv\",out,delimiter=\" \",fmt = '%f')"
   ]
  },
  {
   "cell_type": "code",
   "execution_count": 142,
   "metadata": {},
   "outputs": [
    {
     "data": {
      "text/plain": [
       "array([[-6.21764356],\n",
       "       [-5.85251174],\n",
       "       [ 4.77431753],\n",
       "       [-3.06635852]])"
      ]
     },
     "execution_count": 142,
     "metadata": {},
     "output_type": "execute_result"
    }
   ],
   "source": [
    "theta"
   ]
  },
  {
   "cell_type": "code",
   "execution_count": null,
   "metadata": {},
   "outputs": [],
   "source": []
  }
 ],
 "metadata": {
  "kernelspec": {
   "display_name": "Python 3",
   "language": "python",
   "name": "python3"
  },
  "language_info": {
   "codemirror_mode": {
    "name": "ipython",
    "version": 3
   },
   "file_extension": ".py",
   "mimetype": "text/x-python",
   "name": "python",
   "nbconvert_exporter": "python",
   "pygments_lexer": "ipython3",
   "version": "3.7.5"
  }
 },
 "nbformat": 4,
 "nbformat_minor": 2
}
